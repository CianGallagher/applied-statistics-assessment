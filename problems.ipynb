{
 "cells": [
  {
   "cell_type": "markdown",
   "id": "7a2c5f0e",
   "metadata": {},
   "source": [
    "# Notebook Title\n",
    "## Identification of each problem"
   ]
  }
 ],
 "metadata": {
  "language_info": {
   "name": "python"
  }
 },
 "nbformat": 4,
 "nbformat_minor": 5
}
